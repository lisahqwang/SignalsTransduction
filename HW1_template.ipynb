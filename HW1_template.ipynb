{
 "cells": [
  {
   "cell_type": "code",
   "execution_count": 9,
   "metadata": {},
   "outputs": [],
   "source": [
    "# First we need to import all of the packages we will be using!\n",
    "import numpy as np\n",
    "from scipy.integrate import odeint\n",
    "import matplotlib.pyplot as plt"
   ]
  },
  {
   "cell_type": "code",
   "execution_count": 10,
   "metadata": {},
   "outputs": [],
   "source": [
    "# First model: no synthesis and degradation\n",
    "# This is the definition of our system of ODEs for the model\n",
    "def first_model(states,t):\n",
    "    # Our \"states\" list has the state variables in the following order:\n",
    "    # S, KS, Sstar, PSstar, K, P\n",
    "    S = states[0]\n",
    "    KS = states[1]\n",
    "    Sstar = states[2]\n",
    "    PSstar = states[3]\n",
    "    K = states[4]\n",
    "    P = states[5]\n",
    "    # The above just makes it easier to relate our ODEs to the ones in the Homework text\n",
    "    S_prime = -k_plus*S*K + k_minus*KS + k_cat*PSstar\n",
    "    KS_prime = k_plus*S*K - k_minus*KS - k_cat*KS\n",
    "    Sstar_prime = -k_plus*Sstar*P + k_minus*PSstar + k_cat*KS\n",
    "    PSstar_prime = k_plus*Sstar*P - k_minus*PSstar - k_cat*PSstar\n",
    "    K_prime = -k_plus*S*K + k_minus*KS + k_cat*KS\n",
    "    P_prime = -k_plus*Sstar*P + k_minus*PSstar + k_cat*PSstar\n",
    "    states_prime = [S_prime,KS_prime,Sstar_prime,PSstar_prime,K_prime,P_prime]\n",
    "    return states_prime"
   ]
  },
  {
   "cell_type": "code",
   "execution_count": 11,
   "metadata": {},
   "outputs": [],
   "source": [
    "# PARAMETERS\n",
    "# This is where we will define the parameters that we won't change for our model\n",
    "k_cat = 9.9\n",
    "k_minus = 0.1\n",
    "k_plus = 1"
   ]
  },
  {
   "cell_type": "code",
   "execution_count": 12,
   "metadata": {},
   "outputs": [],
   "source": [
    "# STEADY-STATE responses of the first model\n",
    "# (hint: you will need to run this TWICE, once for unsaturated, once for saturated)\n",
    "\n",
    "# First, define our initial conditions\n",
    "# These are going to be the same for value of 'K_0'\n",
    "S_0 = 1000 # This is the variable you change to change saturation!\n",
    "KS_0 = 0.0\n",
    "Sstar_0 = 0.0\n",
    "PSstar_0 = 0.0\n",
    "P_0 = 0.001\n",
    "\n",
    "# Here, we define our list of K values:\n",
    "K_values = np.linspace(0.0001, 0.005)\n",
    "\n",
    "#These will be the lists that hold the results\n",
    "Sstar_results = []\n",
    "r_values = []\n",
    "\n",
    "for K_0 in K_values:\n",
    "    # First, we create our initial conditions\n",
    "    # We do this inside the for loop because K_0 is changing\n",
    "    states_0 = [S_0,KS_0,Sstar_0,PSstar_0,K_0,P_0]\n",
    "    # To intgrate ODEs, we need a \"t\" vector for time\n",
    "    # Note that the units on \"t\" are in seconds\n",
    "    # We choose a very long maximum time (20,000,000 seconds!) to insure we reach steady-state\n",
    "    t = np.linspace(0,20000000,2000)\n",
    "    # Now, integrate the ODEs and put the results in \"solution\"\n",
    "    solution = odeint(first_model,states_0,t)\n",
    "    # Next, we caluclate the effective \"r\" value and put it in the vector for r\n",
    "    r = k_cat*K_0 / (k_cat*P_0)\n",
    "    r_values.append(r)\n",
    "    # Now, calculate our output, which remember from lecture is S*/S_t\n",
    "    # (the concentration of modified substrate divided by the total substrate concentration)\n",
    "    # Note that, since total substrate is conserved, S_T is just equal to S_0\n",
    "    # Note that we are taking the last time point. Since there are 2,000 time points\n",
    "    # The index of the last time point is 1,999\n",
    "    norm_S = solution[1999,2]/S_0\n",
    "    # Append this result to the vector of our results\n",
    "    Sstar_results.append(norm_S)"
   ]
  },
  {
   "cell_type": "code",
   "execution_count": 13,
   "metadata": {},
   "outputs": [
    {
     "data": {
      "image/png": "[encoded data removed]",
      "text/plain": [
       "<Figure size 432x288 with 1 Axes>"
      ]
     },
     "metadata": {
      "needs_background": "light"
     },
     "output_type": "display_data"
    }
   ],
   "source": [
    "# PLOT your steady-state results\n",
    "# Run this once for unsaturated, then change the block above and make a graph for saturated\n",
    "# You can save this as a JPG or PNG and insert it into your HW answer (you can google how to do that!)\n",
    "# Or you can just take a screenshot. Be warned, however, the figure needs to be big enough for us to see!\n",
    "plt.plot(r_values,Sstar_results,'b-',linewidth=2)\n",
    "plt.xlabel('r')\n",
    "plt.ylabel('S*/S_T')\n",
    "plt.show()"
   ]
  },
  {
   "cell_type": "code",
   "execution_count": 14,
   "metadata": {},
   "outputs": [],
   "source": [
    "# DYNAMICS\n",
    "# (hint: you will need to run this TWICE, once for unsaturated, once for saturated)\n",
    "\n",
    "# First, define our initial conditions\n",
    "S_0 = 1000 # This is the variable you change to change saturation!\n",
    "KS_0 = 0.0\n",
    "Sstar_0 = 0.0\n",
    "PSstar_0 = 0.0\n",
    "P_0 = 0.001\n",
    "K_0 = 0.002\n",
    "\n",
    "states_0 = [S_0,KS_0,Sstar_0,PSstar_0,K_0,P_0]\n",
    "t = np.linspace(0,200000,200000)\n",
    "solution = odeint(first_model,states_0,t)\n",
    "\n",
    "# HINT: The above code was provided for the unsaturated case\n",
    "# As it says in the HW, your code needs to cover the ENTIRE dynamics until the system reaches steady state\n",
    "# So, if you run it, and the curve does not reach a steady-state (i.e. flatten out)\n",
    "# you will need to modify the \"t=np.linspace()\" line above\n",
    "# Remember, np.linspace(a,b,n) has three arguments; a is the starting point, b is the end point\n",
    "# and n is the number of points. To make your time course longer or shorter, all you need to change is 'b'"
   ]
  },
  {
   "cell_type": "code",
   "execution_count": 15,
   "metadata": {},
   "outputs": [
    {
     "data": {
      "image/png": "[encoded data removed]",
      "text/plain": [
       "<Figure size 432x288 with 1 Axes>"
      ]
     },
     "metadata": {
      "needs_background": "light"
     },
     "output_type": "display_data"
    }
   ],
   "source": [
    "# PLOT your dynamics\n",
    "# as with the other Plot block above, you need to run this twice, once for unsaturated and once for saturated\n",
    "plt.plot(t,solution[:,2],'b-',linewidth=2)\n",
    "plt.xlabel('time')\n",
    "plt.ylabel('S*')\n",
    "plt.show()"
   ]
  },
  {
   "cell_type": "code",
   "execution_count": 24,
   "metadata": {},
   "outputs": [],
   "source": [
    "# Second model: includes synthesis and degradation\n",
    "# This is the definition of our system of ODEs for the model\n",
    "def second_model(states,t):\n",
    "    # Our \"states\" list has the state variables in the following order:\n",
    "    # S, KS, Sstar, PSstar, K, P\n",
    "    S = states[0]\n",
    "    KS = states[1]\n",
    "    Sstar = states[2]\n",
    "    PSstar = states[3]\n",
    "    K = states[4]\n",
    "    P = states[5]\n",
    "    # PUT YOUR ODES below!!!\n",
    "    # Hint: copy the ODEs from first_model and modify them to include synthesis and degradation\n",
    "    \n",
    "    S_prime = - ( k_plus * S * K ) + ( k_minus * KS ) + (k_cat * PSstar) + Q - (delta * S)\n",
    "    KS_prime = (k_plus * S * K) - (KS * k_minus) - (KS * k_cat) - (delta * KS)\n",
    "    Sstar_prime = (k_cat * KS) - (k_plus* P * Sstar) + (PSstar * k_minus) - (delta * Sstar)\n",
    "    PSstar_prime = - (PSstar * k_minus) + (k_plus * P * Sstar) - (k_cat * PSstar) - (PSstar * delta)\n",
    "    K_prime = -(k_plus * S * K) + (k_minus * KS) + (KS * k_cat) + (delta * KS) \n",
    "    P_prime = -(k_plus * P * Sstar) + (k_minus * PSstar) + (k_cat * PSstar) + (delta * PSstar)\n",
    "    \n",
    "    # your ODEs go above!\n",
    "    states_prime = [S_prime,KS_prime,Sstar_prime,PSstar_prime,K_prime,P_prime]\n",
    "    return states_prime"
   ]
  },
  {
   "cell_type": "code",
   "execution_count": 25,
   "metadata": {},
   "outputs": [],
   "source": [
    "# PARAMETERS\n",
    "# This is where we  define the parameters that we won't change for our second model\n",
    "k_cat = 9.9\n",
    "k_minus = 0.1\n",
    "k_plus = 1\n",
    "delta = 2e-5 # This is the value of delta we will use"
   ]
  },
  {
   "cell_type": "code",
   "execution_count": 28,
   "metadata": {},
   "outputs": [],
   "source": [
    "# STEADY-STATE responses of the second model\n",
    "# (hint: you will need to run this TWICE, once for unsaturated, once for saturated)\n",
    "\n",
    "# First, define our initial conditions\n",
    "# These are going to be the same for value of 'K_0'\n",
    "S_0 = 1000 # This is the variable you change to change saturation!\n",
    "KS_0 = 0.0\n",
    "Sstar_0 = 0.0\n",
    "PSstar_0 = 0.0\n",
    "P_0 = 0.001\n",
    "K_0 =0.001\n",
    "\n",
    "Q= delta*S_0 # This line handily calculates the value of 'Q' that we need\n",
    "\n",
    "\n",
    "# This is the same as we had above for our first model\n",
    "K_values = np.linspace(0.0001, 0.005)\n",
    "Sstar_results = []\n",
    "r_values = []\n",
    "for K_0 in K_values:\n",
    "    states_0 = [S_0,KS_0,Sstar_0,PSstar_0,K_0,P_0]\n",
    "    t = np.linspace(0,2000000,2000)\n",
    "    solution = odeint(second_model,states_0,t)\n",
    "    r = k_cat*K_0 / (k_cat*P_0)\n",
    "    r_values.append(r)\n",
    "    Sstar_results.append(solution[1999,2]/S_0)"
   ]
  },
  {
   "cell_type": "code",
   "execution_count": 29,
   "metadata": {},
   "outputs": [
    {
     "data": {
      "image/png": "[encoded data removed]",
      "text/plain": [
       "<Figure size 432x288 with 1 Axes>"
      ]
     },
     "metadata": {
      "needs_background": "light"
     },
     "output_type": "display_data"
    }
   ],
   "source": [
    "# PLOT your steady-state results\n",
    "# Run this once for unsaturated, then change the block above and make a graph for saturated\n",
    "plt.plot(r_values,Sstar_results,'b-',linewidth=2)\n",
    "plt.xlabel('r')\n",
    "plt.ylabel('S*/S_T')\n",
    "plt.show()"
   ]
  },
  {
   "cell_type": "code",
   "execution_count": null,
   "metadata": {},
   "outputs": [],
   "source": []
  }
 ],
 "metadata": {
  "kernelspec": {
   "display_name": "Python 3 (ipykernel)",
   "language": "python",
   "name": "python3"
  },
  "language_info": {
   "codemirror_mode": {
    "name": "ipython",
    "version": 3
   },
   "file_extension": ".py",
   "mimetype": "text/x-python",
   "name": "python",
   "nbconvert_exporter": "python",
   "pygments_lexer": "ipython3",
   "version": "3.9.12"
  }
 },
 "nbformat": 4,
 "nbformat_minor": 4
}
