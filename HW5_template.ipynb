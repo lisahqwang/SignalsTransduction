{
 "cells": [
  {
   "cell_type": "code",
   "execution_count": 4,
   "metadata": {},
   "outputs": [],
   "source": [
    "# First we need to import all of the packages we will be using!\n",
    "import numpy as np\n",
    "from scipy.integrate import odeint\n",
    "import matplotlib.pyplot as plt"
   ]
  },
  {
   "cell_type": "code",
   "execution_count": 59,
   "metadata": {},
   "outputs": [],
   "source": [
    "# two component model\n",
    "def two_component_model(states,t):\n",
    "    # Our \"states\" list has the state variables in the following order:\n",
    "    # HK, HKp, RR, RRp, HKpRR, HKRRp\n",
    "    HK = states[0]\n",
    "    HKp = states[1]\n",
    "    RR = states[2]\n",
    "    RRp = states[3]\n",
    "    HKpRR = states[4]\n",
    "    HKRRp = states[5]\n",
    "   \n",
    "    ### implement the change equations\n",
    "    HK_prime = -k_a*HK + k_u*HKp + k_cat *HKpRR -k_p*HK*RRp + k_m*HKRRp + k_cat*HKRRp\n",
    "    HKp_prime = -k_u*HKp + k_a*HK - k_p*HKp*RR + k_m*HKpRR\n",
    "    RR_prime = -k_p*RR*HKp + k_m*HKpRR + k_cat*HKRRp\n",
    "    RRp_prime = k_cat*HKpRR -k_p*HK*RRp +k_m*HKRRp\n",
    "    HKpRR_prime = -k_m*HKpRR + k_p*HKp*RR - k_cat*HKpRR\n",
    "    HKRRp_prime = k_p*HK*RRp -k_m*HKRRp - k_cat*HKRRp\n",
    "\n",
    "    ###\n",
    "    \n",
    "    statesprime = [HK_prime, HKp_prime,RR_prime, RRp_prime, HKpRR_prime, HKRRp_prime]\n",
    "    return statesprime"
   ]
  },
  {
   "cell_type": "code",
   "execution_count": 63,
   "metadata": {},
   "outputs": [
    {
     "data": {
      "image/png": "[encoded data removed]",
      "text/plain": [
       "<Figure size 432x288 with 1 Axes>"
      ]
     },
     "metadata": {
      "needs_background": "light"
     },
     "output_type": "display_data"
    }
   ],
   "source": [
    "# STEADY-STATE responses of two component model PART 1\n",
    "\n",
    "# INITIAL CONCENTRATIONS & PARAMETERS \n",
    "# This is where we will define the initial conditions and parameters that we won't change for different simulations\n",
    "\n",
    "#initial conditions\n",
    "HK_0 = 1\n",
    "HKp_0 = 0\n",
    "RR_0 = 22\n",
    "RRp_0 = 0\n",
    "HKpRR_0 = 0\n",
    "HKRRp_0 = 0\n",
    "states0 = [HK_0, HKp_0, RR_0, RRp_0, HKpRR_0, HKRRp_0]\n",
    "\n",
    "#parameters\n",
    "k_a = 1\n",
    "k_u = 0.1\n",
    "k_p = 1\n",
    "k_m = 0.1\n",
    "k_cat = 1\n",
    "\n",
    "# Here, we define our list of k_a values:\n",
    "k_a_values = np.linspace(0, 10)\n",
    "\n",
    "#These will be the lists that hold the results\n",
    "ss_results = []\n",
    "\n",
    "for k_a in k_a_values:\n",
    "    # To intgrate ODEs, we need a \"t\" vector for time\n",
    "    # Note that the units on \"t\" are in seconds\n",
    "    t = np.linspace(0,1000,1000)\n",
    "    # Now, integrate the ODEs and put the results in \"solution\"\n",
    "    solution = odeint(two_component_model,states0,t)\n",
    "    # Now, calculate our steady state output, RRp/RR_0\n",
    "    output = solution[999,3]/RR_0\n",
    "    # Append this result to the vector of our results\n",
    "    ss_results.append(output)\n",
    "\n",
    "plt.plot(k_a_values,ss_results,'b-',linewidth=2, label = \"RR_0 = \"+str(RR_0))\n",
    "plt.xlabel('k_a')\n",
    "plt.ylabel('Phosphorylated Fraction RR')\n",
    "plt.legend()\n",
    "plt.show()"
   ]
  },
  {
   "cell_type": "code",
   "execution_count": 61,
   "metadata": {},
   "outputs": [
    {
     "data": {
      "image/png": "[encoded data removed]",
      "text/plain": [
       "<Figure size 432x288 with 1 Axes>"
      ]
     },
     "metadata": {
      "needs_background": "light"
     },
     "output_type": "display_data"
    }
   ],
   "source": [
    "# STEADY-STATE responses of two component model PART2\n",
    "\n",
    "# INITIAL CONCENTRATIONS & PARAMETERS\n",
    "# This is where we will define the initial conditions and parameters that we won't change for different simulations\n",
    "\n",
    "#initial conditions\n",
    "HK_0 = 1\n",
    "HKp_0 = 0\n",
    "RR_0 = 1000\n",
    "RRp_0 = 0\n",
    "HKpRR_0 = 0\n",
    "HKRRp_0 = 0\n",
    "states0 = [HK_0, HKp_0, RR_0, RRp_0, HKpRR_0, HKRRp_0]\n",
    "\n",
    "#parameters\n",
    "k_a = 1\n",
    "k_u = 0.1\n",
    "k_p = 1\n",
    "k_m = 0.1\n",
    "k_cat = 1\n",
    "\n",
    "# Here, we define our list of HK values:\n",
    "HK_values = np.linspace(0, 10)\n",
    "\n",
    "#These will be the lists that hold the results\n",
    "ss_results = []\n",
    "\n",
    "for HK_0 in HK_values:\n",
    "    #First define the initial conditions for the new value of HK_0\n",
    "    states0 = [HK_0, HKp_0, RR_0, RRp_0, HKpRR_0, HKRRp_0]\n",
    "    # To intgrate ODEs, we need a \"t\" vector for time\n",
    "    # Note that the units on \"t\" are in seconds\n",
    "    t = np.linspace(0,1000,1000)\n",
    "    # Now, integrate the ODEs and put the results in \"solution\"\n",
    "    solution = odeint(two_component_model,states0,t)\n",
    "    # Now, calculate our steady state output, RRp/RR_0\n",
    "    output = solution[999,3]/RR_0\n",
    "    # Append this result to the vector of our results\n",
    "    ss_results.append(output)\n",
    "\n",
    "plt.plot(k_a_values,ss_results,'b-',linewidth=2, label = \"RR_0 = \"+str(RR_0))\n",
    "plt.xlabel('HK Concentration ($\\mu$M)')\n",
    "plt.ylabel('Phosphorylated Fraction RR')\n",
    "plt.legend()\n",
    "plt.show()"
   ]
  },
  {
   "cell_type": "code",
   "execution_count": 17,
   "metadata": {},
   "outputs": [],
   "source": [
    "# chemotaxis model\n",
    "def chemotaxis_model(states,t):\n",
    "    # Our \"states\" list has the state variables in the following order:\n",
    "    # CheA, CheAp, CheY, CheYp, CheApCheY, CheZCheYp\n",
    "    CheA = states[0]\n",
    "    CheAp = states[1]\n",
    "    CheY = states[2]\n",
    "    CheYp = states[3]\n",
    "    CheZ = states[4]\n",
    "    CheApCheY = states[5]\n",
    "    CheZCheYp = states[6]\n",
    "   \n",
    "    ### implement the change equations\n",
    "    CheA_prime = -k_a*CheA + k_u*CheAp + k_cat*CheApCheY\n",
    "    CheAp_prime = k_a*CheA -k_u*CheAp + k_m*CheApCheY - k_p*CheAp*CheY\n",
    "    CheY_prime = -k_p*CheAp*CheY + k_m*CheApCheY + k_cat*CheZCheYp\n",
    "    CheYp_prime = k_cat*CheApCheY - k_p*CheZ*CheYp + k_m*CheZCheYp\n",
    "    CheZ_prime = -k_p*CheZ*CheYp + k_m*CheZCheYp + k_cat*CheZCheYp\n",
    "    CheApCheY_prime = k_p*CheAp*CheY - k_m*CheApCheY - k_cat*CheApCheY\n",
    "    CheZCheYp_prime = k_p*CheZ*CheYp -k_m*CheZCheYp -k_cat*CheZCheYp\n",
    "    ###\n",
    "    \n",
    "    statesprime = [CheA_prime, CheAp_prime,CheY_prime, CheYp_prime, CheZ_prime, CheApCheY_prime, CheZCheYp_prime]\n",
    "    return statesprime"
   ]
  },
  {
   "cell_type": "code",
   "execution_count": 30,
   "metadata": {},
   "outputs": [
    {
     "data": {
      "image/png": "[encoded data removed]",
      "text/plain": [
       "<Figure size 432x288 with 1 Axes>"
      ]
     },
     "metadata": {
      "needs_background": "light"
     },
     "output_type": "display_data"
    }
   ],
   "source": [
    "# STEADY-STATE responses of chemotaxis model\n",
    "\n",
    "# INITIAL CONCENTRATIONS & PARAMETERS \n",
    "# This is where we will define the initial conditions and parameters that we won't change for different simulations\n",
    "\n",
    "#initial conditions\n",
    "CheA_0 = 1\n",
    "CheAp_0 = 0\n",
    "CheY_0 = 50\n",
    "CheYp_0 = 0\n",
    "CheZ_0 = 0.007\n",
    "CheApCheY_0 = 0\n",
    "CheZCheYp_0 = 0\n",
    "states0 = [CheA_0, CheAp_0,CheY_0, CheYp_0, CheZ_0, CheApCheY_0, CheZCheYp_0]\n",
    "\n",
    "#parameters\n",
    "k_a = 1\n",
    "k_u = 0.1\n",
    "k_p = 1\n",
    "k_m = 0.1\n",
    "k_cat = 1\n",
    "\n",
    "# Here, we define our list of k_a values:\n",
    "k_a_values = np.linspace(0, 10)\n",
    "\n",
    "#These will be the lists that hold the results\n",
    "ss_results = []\n",
    "\n",
    "for k_a in k_a_values:\n",
    "    # To intgrate ODEs, we need a \"t\" vector for time\n",
    "    # Note that the units on \"t\" are in seconds\n",
    "    t = np.linspace(0,1000,1000)\n",
    "    # Now, integrate the ODEs and put the results in \"solution\"\n",
    "    solution = odeint(chemotaxis_model,states0,t)\n",
    "    # Now, calculate our steady state output, CheYp/CheY_0\n",
    "    output = solution[999,3]/CheY_0\n",
    "    # Append this result to the vector of our results\n",
    "    ss_results.append(output)\n",
    "\n",
    "plt.plot(k_a_values,ss_results,'b-',linewidth=2, label = \"CheY_0 = \"+str(CheY_0)+\"\\n CheZ_0 = \" +str(CheZ_0))\n",
    "plt.xlabel('k_a')\n",
    "plt.ylabel('Phosphorylated Fraction CheY')\n",
    "plt.legend()\n",
    "plt.show()"
   ]
  },
  {
   "cell_type": "code",
   "execution_count": 31,
   "metadata": {},
   "outputs": [],
   "source": [
    "# perfect adaptation model\n",
    "def perfect_adaptation_model(states,t):\n",
    "    # Our \"states\" list has the state variables in the following order:\n",
    "    # CheY, CheYp\n",
    "    CheY = states[0]\n",
    "    CheYp = states[1]\n",
    "   \n",
    "    CheY_prime = -Va + Vz*(CheYp/(Kz+CheYp))\n",
    "    CheYp_prime = +Va - Vz*(CheYp/(Kz+CheYp))\n",
    "    \n",
    "    statesprime = [CheY_prime, CheYp_prime]\n",
    "    return statesprime"
   ]
  },
  {
   "cell_type": "code",
   "execution_count": 49,
   "metadata": {},
   "outputs": [
    {
     "data": {
      "image/png": "[encoded data removed]",
      "text/plain": [
       "<Figure size 432x288 with 1 Axes>"
      ]
     },
     "metadata": {
      "needs_background": "light"
     },
     "output_type": "display_data"
    }
   ],
   "source": [
    "# Responses of perfect adaptation model\n",
    "\n",
    "# INITIAL CONCENTRATIONS & PARAMETERS \n",
    "# This is where we will define the initial conditions and parameters that we won't change for different simulations\n",
    "\n",
    "#initial conditions\n",
    "CheY_0 = 10\n",
    "CheYp_0 = 0 #you will need to change this value\n",
    "states0 = [CheY_0, CheYp_0]\n",
    "\n",
    "#parameters\n",
    "Va = 0.5\n",
    "Vz = 1\n",
    "Kz = 10\n",
    "\n",
    "# To intgrate ODEs, we need a \"t\" vector for time\n",
    "# Note that the units on \"t\" are in seconds\n",
    "t = np.linspace(0,20000,1000)\n",
    "# Now, integrate the ODEs and put the results in \"solution\"\n",
    "solution = odeint(perfect_adaptation_model,states0,t)\n",
    "\n",
    "plt.plot(t,solution[:, 0],'b-',linewidth=2, label = \"CheY\")\n",
    "plt.plot(t,solution[:, 1],'r-',linewidth=2, label = \"CheYp\")\n",
    "plt.xlabel('time')\n",
    "plt.ylabel('Concentration ($\\mu$M)')\n",
    "plt.legend()\n",
    "plt.show()"
   ]
  },
  {
   "cell_type": "code",
   "execution_count": 50,
   "metadata": {},
   "outputs": [],
   "source": [
    "# perfect adaptation model with transient spike\n",
    "def perfect_adapt_spike_model(states,t):\n",
    "    # Our \"states\" list has the state variables in the following order:\n",
    "    # CheY, CheYp\n",
    "    CheY = states[0]\n",
    "    CheYp = states[1]\n",
    "    \n",
    "    if t_on <t< t_off:\n",
    "        CheYp = CheYp + spike\n",
    "   \n",
    "    CheY_prime = -Va + Vz*(CheYp/(Kz+CheYp))\n",
    "    CheYp_prime = +Va - Vz*(CheYp/(Kz+CheYp))\n",
    "    \n",
    "    statesprime = [CheY_prime, CheYp_prime]\n",
    "    return statesprime"
   ]
  },
  {
   "cell_type": "code",
   "execution_count": 58,
   "metadata": {},
   "outputs": [
    {
     "data": {
      "image/png": "[encoded data removed]",
      "text/plain": [
       "<Figure size 432x288 with 1 Axes>"
      ]
     },
     "metadata": {
      "needs_background": "light"
     },
     "output_type": "display_data"
    }
   ],
   "source": [
    "# Responses of perfect adaptation model with spike\n",
    "\n",
    "# INITIAL CONCENTRATIONS & PARAMETERS \n",
    "# This is where we will define the initial conditions and parameters that we won't change for different simulations\n",
    "\n",
    "#initial conditions\n",
    "CheY_0 = 10\n",
    "CheYp_0 = 5 #you will need to change this value\n",
    "states0 = [CheY_0, CheYp_0]\n",
    "\n",
    "#parameters\n",
    "Va = 0.5\n",
    "Vz = 1\n",
    "Kz = 10\n",
    "\n",
    "#spike parameters\n",
    "t_on = 25\n",
    "t_off = 35\n",
    "spike = 10\n",
    "\n",
    "# To intgrate ODEs, we need a \"t\" vector for time\n",
    "# Note that the units on \"t\" are in seconds\n",
    "t = np.linspace(0,200,10000)\n",
    "# Now, integrate the ODEs and put the results in \"solution\"\n",
    "solution = odeint(perfect_adapt_spike_model,states0,t)\n",
    "\n",
    "plt.plot(t,solution[:, 0],'b-',linewidth=2, label = \"CheY\")\n",
    "plt.plot(t,solution[:, 1],'r-',linewidth=2, label = \"CheYp\")\n",
    "plt.xlabel('time')\n",
    "plt.ylabel('Concentration ($\\mu$M)')\n",
    "plt.legend()\n",
    "plt.show()"
   ]
  },
  {
   "cell_type": "code",
   "execution_count": null,
   "metadata": {},
   "outputs": [],
   "source": []
  }
 ],
 "metadata": {
  "kernelspec": {
   "display_name": "Python 3 (ipykernel)",
   "language": "python",
   "name": "python3"
  },
  "language_info": {
   "codemirror_mode": {
    "name": "ipython",
    "version": 3
   },
   "file_extension": ".py",
   "mimetype": "text/x-python",
   "name": "python",
   "nbconvert_exporter": "python",
   "pygments_lexer": "ipython3",
   "version": "3.9.12"
  }
 },
 "nbformat": 4,
 "nbformat_minor": 4
}
