{
 "cells": [
  {
   "cell_type": "code",
   "execution_count": 86,
   "metadata": {},
   "outputs": [],
   "source": [
    "# First we need to import all of the packages we will be using!\n",
    "import numpy as np\n",
    "from scipy.integrate import odeint\n",
    "import matplotlib.pyplot as plt"
   ]
  },
  {
   "cell_type": "code",
   "execution_count": 87,
   "metadata": {},
   "outputs": [],
   "source": [
    "# initial caspase model\n",
    "def caspase_model(states,t):\n",
    "    # Our \"states\" list has the state variables in the following order:\n",
    "    # C8, proC3, C8proC3, C3\n",
    "    C8 = states[0]\n",
    "    proC3 = states[1]\n",
    "    C8proC3 = states[2]\n",
    "    C3 = states[3]\n",
    "   \n",
    "    ### implement the change equations to reflect the new model\n",
    "    C8_prime = -k_a*C8*proC3 + k_d*C8proC3 + k_c*C8proC3 + delta*C8proC3 \n",
    "    proC3_prime = -k_a*proC3*C8 + k_d*C8proC3 + Q - delta*proC3\n",
    "    C8proC3_prime =k_a*proC3*C8 -k_d*C8proC3 - k_c*C8proC3 -delta*C8proC3\n",
    "    C3_prime = k_c*C8proC3 - delta*C3\n",
    "\n",
    "\n",
    "\n",
    "    ###\n",
    "    \n",
    "    statesprime = [C8_prime, proC3_prime,C8proC3_prime, C3_prime]\n",
    "    return statesprime"
   ]
  },
  {
   "cell_type": "code",
   "execution_count": 88,
   "metadata": {},
   "outputs": [],
   "source": [
    "# INITIAL CONCENTRATIONS & PARAMETERS\n",
    "# This is where we will define the initial conditions and parameters that we won't change for different simulations\n",
    "\n",
    "#initial conditions\n",
    "proC3_0 = 1\n",
    "C8proC3_0 =0\n",
    "C3_0 = 0\n",
    "\n",
    "#parameters\n",
    "k_a = 1\n",
    "k_d = 0.1\n",
    "k_c = 10\n",
    "delta = 2e-4\n",
    "\n",
    "### enter your expression for the value of Q (synthesis rate of proC3)\n",
    "Q = proC3_0*delta\n",
    "###"
   ]
  },
  {
   "cell_type": "code",
   "execution_count": 89,
   "metadata": {},
   "outputs": [
    {
     "data": {
      "image/png": "[encoded data removed]",
      "text/plain": [
       "<Figure size 432x288 with 1 Axes>"
      ]
     },
     "metadata": {
      "needs_background": "light"
     },
     "output_type": "display_data"
    }
   ],
   "source": [
    "# STEADY-STATE responses of initial caspase model\n",
    "\n",
    "# Here, we define our list of C8_0 values:\n",
    "C8_values = np.linspace(0, 0.01)\n",
    "\n",
    "#These will be the lists that hold the results\n",
    "ss_results = []\n",
    "\n",
    "for C8_0 in C8_values:\n",
    "    # First, we create our initial conditions\n",
    "    # We do this inside the for loop because C8_0 is changing\n",
    "    states0 = [C8_0, proC3_0, C8proC3_0, C3_0]\n",
    "    # To intgrate ODEs, we need a \"t\" vector for time\n",
    "    # Note that the units on \"t\" are in seconds\n",
    "    t = np.linspace(0,100000,1000)\n",
    "    # Now, integrate the ODEs and put the results in \"solution\"\n",
    "    solution = odeint(caspase_model,states0,t)\n",
    "    # Now, calculate our steady state output, C3/proc3_0\n",
    "    # (the concentration of cleaved caspase 3 divided by the total initial concentration of pro-caspase 3)\n",
    "    norm_C3 = solution[999,3]/proC3_0\n",
    "    # Append this result to the vector of our results\n",
    "    ss_results.append(norm_C3)\n",
    "\n",
    "plt.plot(C8_values,ss_results,'b-',linewidth=2, label = \"proC3_0 = \"+str(proC3_0))\n",
    "plt.xlabel('Initial Caspase 8')\n",
    "plt.ylabel('Active Fraction Caspase 3')\n",
    "plt.legend()\n",
    "plt.show()"
   ]
  },
  {
   "cell_type": "code",
   "execution_count": 90,
   "metadata": {},
   "outputs": [],
   "source": [
    "#simple caspase model with feedback and FLIP\n",
    "# Our \"states\" list has the state variables in the following order:\n",
    "# proC8, C8, proC3, R, F, RF\n",
    "def caspase_FLIP_model(states,t):\n",
    "    proC8 = states[0]\n",
    "    C8 = states[1]\n",
    "    proC3 = states[2]\n",
    "    C3 = states[3]\n",
    "    R = states[4]\n",
    "    F = states[5]\n",
    "    RF = states[6]\n",
    "   \n",
    "    ### ADD your change equations here\n",
    "    proC8prime = QC8 - delta*proC8 - k_ba*proC8*R -k_a*C3*proC8\n",
    "    C8prime = k_ba*proC8*R - delta*C8 +k_a*C3*proC8\n",
    "    proC3prime = QC3 - delta*proC3 -k_a*proC3*C8 \n",
    "    C3prime = -delta*C3  + k_a*proC3*C8\n",
    "    Rprime = -kp*F*R +km*RF\n",
    "    Fprime = -kp*F*R + km*RF\n",
    "    RFprime = -km*RF + kp*F*R\n",
    "\n",
    "    ###\n",
    "    \n",
    "    statesprime = [proC8prime,C8prime,proC3prime,C3prime,Rprime,Fprime,RFprime]\n",
    "    return statesprime"
   ]
  },
  {
   "cell_type": "code",
   "execution_count": 91,
   "metadata": {},
   "outputs": [
    {
     "data": {
      "image/png": "[encoded data removed]",
      "text/plain": [
       "<Figure size 432x288 with 1 Axes>"
      ]
     },
     "metadata": {
      "needs_background": "light"
     },
     "output_type": "display_data"
    }
   ],
   "source": [
    "# STEADY-STATE responses of feedback + FLIP model\n",
    "\n",
    "#INITIAL CONDITIONS\n",
    "proC8_0 = 1\n",
    "C8_0 = 0\n",
    "proC3_0 = 1\n",
    "C3_0 = 0\n",
    "F_0 = 1\n",
    "RF_0 = 0\n",
    "\n",
    "#parameters\n",
    "k_a = 1\n",
    "k_ba = 0.001\n",
    "kp = 1# modify this parameter\n",
    "km = 0# modify this parameter\n",
    "delta = 2e-4\n",
    "QC8 = proC8_0*delta\n",
    "QC3 = proC3_0*delta\n",
    "\n",
    "# Here, we define our list of R_0 values:\n",
    "R_values = np.linspace(0.01,1,100)\n",
    "\n",
    "#These will be the lists that hold the results\n",
    "ss_results = []\n",
    "\n",
    "for R_0 in R_values:\n",
    "    # First, we create our initial conditions\n",
    "    # We do this inside the for loop because R_0 is changing\n",
    "    states0 = [proC8_0,C8_0,proC3_0,C3_0,R_0,F_0,RF_0]\n",
    "    # To intgrate ODEs, we need a \"t\" vector for time\n",
    "    # Note that the units on \"t\" are in seconds\n",
    "    t = np.linspace(0,100000,1000)\n",
    "    # Now, integrate the ODEs and put the results in \"solution\"\n",
    "    solution = odeint(caspase_FLIP_model,states0,t)\n",
    "    # Now, calculate our steady state output, C3/proc3_0\n",
    "    # (the concentration of cleaved caspase 3 divided by the total initial concentration of pro-caspase 3)\n",
    "    norm_C3 = solution[999,3]/proC3_0\n",
    "    # Append this result to the vector of our results\n",
    "    ss_results.append(norm_C3)\n",
    "\n",
    "plt.plot(R_values,ss_results,'b-',linewidth=2, label = \"kp = \" +str(kp) +\", km = \" +str(km))\n",
    "plt.xlabel('Initial Receptor Concentration')\n",
    "plt.ylabel('Active Fraction Caspase 3')\n",
    "# We have to add an extra directive here to make sure the y-axis prints correctly\n",
    "plt.axis([0,1,0,1.1])\n",
    "plt.legend()\n",
    "plt.show()"
   ]
  },
  {
   "cell_type": "code",
   "execution_count": 96,
   "metadata": {},
   "outputs": [
    {
     "data": {
      "image/png": "[encoded data removed]",
      "text/plain": [
       "<Figure size 432x288 with 1 Axes>"
      ]
     },
     "metadata": {
      "needs_background": "light"
     },
     "output_type": "display_data"
    }
   ],
   "source": [
    "# STEADY-STATE responses of feedback + irreversible FLIP model\n",
    "\n",
    "#INITIAL CONDITIONS\n",
    "proC8_0 = 1\n",
    "C8_0 = 0\n",
    "proC3_0 = 1\n",
    "C3_0 = 0\n",
    "F_tot = 1\n",
    "\n",
    "#parameters (you will need to change one of these to implement irreversible binding)\n",
    "k_a = 1\n",
    "k_ba = 0.001\n",
    "kp = 1\n",
    "km = 1\n",
    "delta = 2e-4\n",
    "QC8 = proC8_0*delta\n",
    "QC3 = proC3_0*delta\n",
    "\n",
    "# Here, we define our list of R_tot values:\n",
    "R_values = np.linspace(0.01,5,100)\n",
    "\n",
    "#These will be the lists that hold the results\n",
    "ss_results = []\n",
    "\n",
    "for R_tot in R_values:\n",
    "    # First, we create our initial conditions\n",
    "    # We do this inside the for loop because R_tot is changing\n",
    "    \n",
    "    #This is the case where there are less (or equal) receptors in total than FLIP in total\n",
    "    ### fill in the following lines\n",
    "    if (F_tot >= R_tot):\n",
    "        RF_0 = R_tot\n",
    "        R_0 = 0\n",
    "        F_0 = F_tot - R_tot\n",
    "    ###\n",
    "    \n",
    "    #This is the case where there are more receptors in total than FLIP in total\n",
    "    ### fill in the following lines\n",
    "    else:\n",
    "        RF_0 = F_tot\n",
    "        R_0 = R_tot - F_tot\n",
    "        F_0 = 0\n",
    "    ###\n",
    "    states0 = [proC8_0,C8_0,proC3_0,C3_0,R_0,F_0,RF_0]\n",
    "    \n",
    "    # To intgrate ODEs, we need a \"t\" vector for time\n",
    "    # Note that the units on \"t\" are in seconds\n",
    "    t = np.linspace(0,100000,1000)\n",
    "    # Now, integrate the ODEs and put the results in \"solution\"\n",
    "    solution = odeint(caspase_FLIP_model,states0,t)\n",
    "    # Now, calculate our steady state output, C3/proc3_0\n",
    "    # (the concentration of cleaved caspase 3 divided by the total initial concentration of pro-caspase 3)\n",
    "    norm_C3 = solution[999,3]/proC3_0\n",
    "    # Append this result to the vector of our results\n",
    "    ss_results.append(norm_C3)\n",
    "\n",
    "plt.plot(R_values,ss_results,'b-',linewidth=2, label = \"F_tot = \" +str(F_tot))\n",
    "plt.xlabel('Total Receptor Concentration')\n",
    "plt.ylabel('Active Fraction Caspase 3')\n",
    "# We have to add an extra directive here to make sure the y-axis prints correctly\n",
    "plt.axis([0,1,0,1.1])\n",
    "plt.legend()\n",
    "plt.show()"
   ]
  },
  {
   "cell_type": "code",
   "execution_count": null,
   "metadata": {},
   "outputs": [],
   "source": []
  }
 ],
 "metadata": {
  "kernelspec": {
   "display_name": "Python 3 (ipykernel)",
   "language": "python",
   "name": "python3"
  },
  "language_info": {
   "codemirror_mode": {
    "name": "ipython",
    "version": 3
   },
   "file_extension": ".py",
   "mimetype": "text/x-python",
   "name": "python",
   "nbconvert_exporter": "python",
   "pygments_lexer": "ipython3",
   "version": "3.9.12"
  }
 },
 "nbformat": 4,
 "nbformat_minor": 2
}
